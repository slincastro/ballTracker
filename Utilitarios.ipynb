{
 "cells": [
  {
   "cell_type": "markdown",
   "metadata": {},
   "source": [
    "# Binarizacion"
   ]
  },
  {
   "cell_type": "code",
   "execution_count": null,
   "metadata": {},
   "outputs": [],
   "source": [
    "import cv2, os, numpy as np\n",
    "from math import pi\n",
    "\n",
    "INPUT_DIR = \"fotos\"\n",
    "OUTPUT_DIR = \"fotos_binarizadas_limpias_test\"\n",
    "os.makedirs(OUTPUT_DIR, exist_ok=True)\n",
    "\n",
    "# parámetros\n",
    "LEFT_MASK_FRAC = 0.08        # enmascara el 8% izquierdo (cámbialo si hay borde brillante)\n",
    "BLUR_KSIZE = 7               # suavizado para reducir ruido (impar)\n",
    "OPEN_K = 5                   # apertura morfológica para quitar puntos sueltos\n",
    "AREA_MIN = 150               # descarta blobs muy pequeños\n",
    "CIRC_MIN = 0.5               # circularidad mínima 4πA/P^2 (0..1)\n",
    "\n",
    "def keep_largest_circular(blob_mask):\n",
    "    cnts, _ = cv2.findContours(blob_mask, cv2.RETR_EXTERNAL, cv2.CHAIN_APPROX_SIMPLE)\n",
    "    best = None\n",
    "    best_score = 0.0\n",
    "    h, w = blob_mask.shape\n",
    "    for c in cnts:\n",
    "        area = cv2.contourArea(c)\n",
    "        if area < AREA_MIN: \n",
    "            continue\n",
    "        peri = cv2.arcLength(c, True) or 1.0\n",
    "        circ = (4.0 * pi * area) / (peri * peri)  \n",
    "        score = area * (0.5 + 0.5 * min(max(circ, 0.0), 1.0))  \n",
    "        if circ >= CIRC_MIN and score > best_score:\n",
    "            best = c\n",
    "            best_score = score\n",
    "    out = np.zeros((h, w), np.uint8)\n",
    "    if best is not None:\n",
    "        cv2.drawContours(out, [best], -1, 255, thickness=-1)\n",
    "    return out\n",
    "\n",
    "for subdir, _, files in os.walk(INPUT_DIR):\n",
    "    rel = os.path.relpath(subdir, INPUT_DIR)\n",
    "    out_sub = os.path.join(OUTPUT_DIR, rel)\n",
    "    os.makedirs(out_sub, exist_ok=True)\n",
    "\n",
    "    for f in files:\n",
    "        if not f.lower().endswith(\".jpg\"):\n",
    "            continue\n",
    "        in_path  = os.path.join(subdir, f)\n",
    "        out_path = os.path.join(out_sub, f)\n",
    "\n",
    "        img = cv2.imread(in_path, cv2.IMREAD_GRAYSCALE)\n",
    "        if img is None:\n",
    "            print(\"⚠️ No se pudo leer\", in_path); continue\n",
    "\n",
    "        h, w = img.shape\n",
    "\n",
    "        if LEFT_MASK_FRAC > 0:\n",
    "            m = int(w * LEFT_MASK_FRAC)\n",
    "            bg = int(img[:, m:m+20].mean()) if m+20 < w else int(img.mean())\n",
    "            img[:, :m] = bg\n",
    "\n",
    "        blur = cv2.GaussianBlur(img, (BLUR_KSIZE, BLUR_KSIZE), 0)\n",
    "\n",
    "        _, bin0 = cv2.threshold(blur, 0, 255, cv2.THRESH_BINARY + cv2.THRESH_OTSU)\n",
    "\n",
    "        k = cv2.getStructuringElement(cv2.MORPH_ELLIPSE, (OPEN_K, OPEN_K))\n",
    "        opened = cv2.morphologyEx(bin0, cv2.MORPH_OPEN, k, iterations=1)\n",
    "\n",
    "        clean = keep_largest_circular(opened)\n",
    "\n",
    "        cv2.imwrite(out_path, clean)\n",
    "        print(f\" {in_path} -> {out_path}\")\n",
    "\n",
    "print(\"✨ Proceso completado\")"
   ]
  },
  {
   "cell_type": "markdown",
   "metadata": {},
   "source": [
    "# Mirroring de Imagenes"
   ]
  },
  {
   "cell_type": "code",
   "execution_count": null,
   "metadata": {},
   "outputs": [],
   "source": [
    "import cv2\n",
    "from pathlib import Path\n",
    "\n",
    "def mirror_images_with_prefix(base_dir: str, exts={\".jpg\", \".jpeg\", \".png\", \".bmp\", \".tif\", \".tiff\"}):\n",
    "    base = Path(base_dir)\n",
    "\n",
    "    for folder in base.iterdir():\n",
    "        if not folder.is_dir():\n",
    "            continue\n",
    "\n",
    "        out_folder = base / f\"in_{folder.name}\"\n",
    "        out_folder.mkdir(parents=True, exist_ok=True)\n",
    "\n",
    "        for file in folder.glob(\"*\"):\n",
    "            if file.suffix.lower() not in exts:\n",
    "                continue\n",
    "\n",
    "            img = cv2.imread(str(file))\n",
    "            if img is None:\n",
    "                continue\n",
    "\n",
    "            mirrored = cv2.flip(img, 1)\n",
    "\n",
    "            out_path = out_folder / file.name\n",
    "            cv2.imwrite(str(out_path), mirrored)\n",
    "\n",
    "        print(f\" Carpeta procesada: {folder.name} -> {out_folder.name}\")\n",
    "\n",
    "\n",
    "BASE_DIR = \"fotos_binarizadas_limpias\"\n",
    "mirror_images_with_prefix(BASE_DIR)"
   ]
  },
  {
   "cell_type": "markdown",
   "metadata": {},
   "source": [
    "# Renombrar un Directorio"
   ]
  },
  {
   "cell_type": "code",
   "execution_count": null,
   "metadata": {},
   "outputs": [],
   "source": [
    "from pathlib import Path\n",
    "\n",
    "carpeta = Path(\"./fotos_binarizadas_limpias_test\")\n",
    "prefijo = \"lst_\"\n",
    "\n",
    "cont = 0\n",
    "for p in sorted(carpeta.rglob(\"*\"), key=lambda x: len(str(x)), reverse=True):\n",
    "    if (\n",
    "        p.is_dir()\n",
    "        and not p.name.startswith(\".\")       \n",
    "        and not p.name.startswith(prefijo)  \n",
    "    ):\n",
    "        destino = p.with_name(prefijo + p.name)\n",
    "        if destino.exists():\n",
    "            print(f\"⚠️ Ya existe: {destino.name}, salto\")\n",
    "            continue\n",
    "        p.rename(destino)\n",
    "        cont += 1\n",
    "        print(f\"📁 {p.name} -> {destino.name}\")\n",
    "\n",
    "print(f\" Carpetas renombradas: {cont}\")"
   ]
  },
  {
   "cell_type": "markdown",
   "metadata": {},
   "source": [
    "# Numero de Lanzamientos Disponibles"
   ]
  },
  {
   "cell_type": "code",
   "execution_count": 1,
   "metadata": {},
   "outputs": [
    {
     "name": "stdout",
     "output_type": "stream",
     "text": [
      " Número de Lanzamientos: 1200\n"
     ]
    }
   ],
   "source": [
    "import os\n",
    "\n",
    "INPUT_DIR = \"fotos_binarizadas_limpias\"\n",
    "\n",
    "subfolders = [d for d in os.listdir(INPUT_DIR) if os.path.isdir(os.path.join(INPUT_DIR, d))]\n",
    "\n",
    "print(f\" Número de Lanzamientos: {len(subfolders)}\")\n"
   ]
  }
 ],
 "metadata": {
  "kernelspec": {
   "display_name": "3.11.7",
   "language": "python",
   "name": "python3"
  },
  "language_info": {
   "codemirror_mode": {
    "name": "ipython",
    "version": 3
   },
   "file_extension": ".py",
   "mimetype": "text/x-python",
   "name": "python",
   "nbconvert_exporter": "python",
   "pygments_lexer": "ipython3",
   "version": "3.11.7"
  }
 },
 "nbformat": 4,
 "nbformat_minor": 2
}
