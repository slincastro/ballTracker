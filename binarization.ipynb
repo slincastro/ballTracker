{
 "cells": [
  {
   "cell_type": "code",
   "execution_count": 13,
   "metadata": {},
   "outputs": [
    {
     "name": "stdout",
     "output_type": "stream",
     "text": [
      "✅ Procesada: fotos/76bfaf67-5fdb-44b3-913b-c0d2d7003721/28.jpg -> fotos_binarizadas/76bfaf67-5fdb-44b3-913b-c0d2d7003721/28.jpg\n",
      "✅ Procesada: fotos/76bfaf67-5fdb-44b3-913b-c0d2d7003721/29.jpg -> fotos_binarizadas/76bfaf67-5fdb-44b3-913b-c0d2d7003721/29.jpg\n",
      "✅ Procesada: fotos/76bfaf67-5fdb-44b3-913b-c0d2d7003721/22.jpg -> fotos_binarizadas/76bfaf67-5fdb-44b3-913b-c0d2d7003721/22.jpg\n",
      "✅ Procesada: fotos/76bfaf67-5fdb-44b3-913b-c0d2d7003721/23.jpg -> fotos_binarizadas/76bfaf67-5fdb-44b3-913b-c0d2d7003721/23.jpg\n",
      "✅ Procesada: fotos/76bfaf67-5fdb-44b3-913b-c0d2d7003721/27.jpg -> fotos_binarizadas/76bfaf67-5fdb-44b3-913b-c0d2d7003721/27.jpg\n",
      "✅ Procesada: fotos/76bfaf67-5fdb-44b3-913b-c0d2d7003721/26.jpg -> fotos_binarizadas/76bfaf67-5fdb-44b3-913b-c0d2d7003721/26.jpg\n",
      "✅ Procesada: fotos/76bfaf67-5fdb-44b3-913b-c0d2d7003721/24.jpg -> fotos_binarizadas/76bfaf67-5fdb-44b3-913b-c0d2d7003721/24.jpg\n",
      "✅ Procesada: fotos/76bfaf67-5fdb-44b3-913b-c0d2d7003721/30.jpg -> fotos_binarizadas/76bfaf67-5fdb-44b3-913b-c0d2d7003721/30.jpg\n",
      "✅ Procesada: fotos/76bfaf67-5fdb-44b3-913b-c0d2d7003721/25.jpg -> fotos_binarizadas/76bfaf67-5fdb-44b3-913b-c0d2d7003721/25.jpg\n",
      "✨ Proceso completado\n"
     ]
    }
   ],
   "source": [
    "import cv2\n",
    "import os\n",
    "\n",
    "INPUT_DIR = \"fotos\"\n",
    "OUTPUT_DIR = \"fotos_binarizadas\"\n",
    "\n",
    "os.makedirs(OUTPUT_DIR, exist_ok=True)\n",
    "\n",
    "for subdir, _, files in os.walk(INPUT_DIR):\n",
    "    rel_path = os.path.relpath(subdir, INPUT_DIR)\n",
    "    out_subdir = os.path.join(OUTPUT_DIR, rel_path)\n",
    "    os.makedirs(out_subdir, exist_ok=True)\n",
    "\n",
    "    for file in files:\n",
    "        if file.lower().endswith(\".jpg\"):\n",
    "            in_path = os.path.join(subdir, file)\n",
    "            out_path = os.path.join(out_subdir, file)\n",
    "\n",
    "            img = cv2.imread(in_path)\n",
    "\n",
    "            if img is None:\n",
    "                print(f\"⚠️ No se pudo leer {in_path}\")\n",
    "                continue\n",
    "\n",
    "            # 3) Convertir a escala de grises\n",
    "            gray = cv2.cvtColor(img, cv2.COLOR_BGR2GRAY)\n",
    "\n",
    "            # 4) Binarizar con Otsu\n",
    "            _, binary = cv2.threshold(\n",
    "                gray, 0, 255, cv2.THRESH_BINARY + cv2.THRESH_OTSU\n",
    "            )\n",
    "\n",
    "            # 5) Guardar resultado\n",
    "            cv2.imwrite(out_path, binary)\n",
    "            print(f\"✅ Procesada: {in_path} -> {out_path}\")\n",
    "\n",
    "print(\"✨ Proceso completado\")"
   ]
  },
  {
   "cell_type": "code",
   "execution_count": 11,
   "metadata": {},
   "outputs": [
    {
     "name": "stdout",
     "output_type": "stream",
     "text": [
      "✅ fotos/76bfaf67-5fdb-44b3-913b-c0d2d7003721/28.jpg -> fotos_binarizadas/76bfaf67-5fdb-44b3-913b-c0d2d7003721/28.jpg\n",
      "✅ fotos/76bfaf67-5fdb-44b3-913b-c0d2d7003721/29.jpg -> fotos_binarizadas/76bfaf67-5fdb-44b3-913b-c0d2d7003721/29.jpg\n",
      "✅ fotos/76bfaf67-5fdb-44b3-913b-c0d2d7003721/22.jpg -> fotos_binarizadas/76bfaf67-5fdb-44b3-913b-c0d2d7003721/22.jpg\n",
      "✅ fotos/76bfaf67-5fdb-44b3-913b-c0d2d7003721/23.jpg -> fotos_binarizadas/76bfaf67-5fdb-44b3-913b-c0d2d7003721/23.jpg\n",
      "✅ fotos/76bfaf67-5fdb-44b3-913b-c0d2d7003721/27.jpg -> fotos_binarizadas/76bfaf67-5fdb-44b3-913b-c0d2d7003721/27.jpg\n",
      "✅ fotos/76bfaf67-5fdb-44b3-913b-c0d2d7003721/26.jpg -> fotos_binarizadas/76bfaf67-5fdb-44b3-913b-c0d2d7003721/26.jpg\n",
      "✅ fotos/76bfaf67-5fdb-44b3-913b-c0d2d7003721/24.jpg -> fotos_binarizadas/76bfaf67-5fdb-44b3-913b-c0d2d7003721/24.jpg\n",
      "✅ fotos/76bfaf67-5fdb-44b3-913b-c0d2d7003721/30.jpg -> fotos_binarizadas/76bfaf67-5fdb-44b3-913b-c0d2d7003721/30.jpg\n",
      "✅ fotos/76bfaf67-5fdb-44b3-913b-c0d2d7003721/25.jpg -> fotos_binarizadas/76bfaf67-5fdb-44b3-913b-c0d2d7003721/25.jpg\n",
      "✨ Proceso completado\n"
     ]
    }
   ],
   "source": [
    "import cv2\n",
    "import os\n",
    "\n",
    "INPUT_DIR = \"fotos\"\n",
    "OUTPUT_DIR = \"fotos_binarizadas\"\n",
    "os.makedirs(OUTPUT_DIR, exist_ok=True)\n",
    "\n",
    "# Tamaño del bloque que quieres reemplazar\n",
    "BLOCK_W, BLOCK_H = 200, 30\n",
    "\n",
    "for subdir, _, files in os.walk(INPUT_DIR):\n",
    "    rel_path = os.path.relpath(subdir, INPUT_DIR)\n",
    "    out_subdir = os.path.join(OUTPUT_DIR, rel_path)\n",
    "    os.makedirs(out_subdir, exist_ok=True)\n",
    "\n",
    "    for file in files:\n",
    "        if file.lower().endswith(\".jpg\"):\n",
    "            in_path = os.path.join(subdir, file)\n",
    "            out_path = os.path.join(out_subdir, file)\n",
    "\n",
    "            # Leer imagen en escala de grises\n",
    "            img = cv2.imread(in_path, cv2.IMREAD_GRAYSCALE)\n",
    "            if img is None:\n",
    "                continue\n",
    "\n",
    "            h, w = img.shape\n",
    "\n",
    "            # --- Recortar bloque de la esquina superior derecha ---\n",
    "            x1_src = w - BLOCK_W\n",
    "            y1_src = 0\n",
    "            x2_src = w\n",
    "            y2_src = BLOCK_H\n",
    "            patch = img[y1_src:y2_src, x1_src:x2_src].copy()\n",
    "\n",
    "            # --- Pegar en la esquina superior izquierda ---\n",
    "            img[0:BLOCK_H, 0:BLOCK_W] = patch\n",
    "\n",
    "            # --- Binarizar con Otsu ---\n",
    "            _, binary = cv2.threshold(img, 0, 255, cv2.THRESH_BINARY + cv2.THRESH_OTSU)\n",
    "\n",
    "            # Guardar resultado\n",
    "            cv2.imwrite(out_path, binary)\n",
    "            print(f\"✅ {in_path} -> {out_path}\")\n",
    "\n",
    "print(\"✨ Proceso completado\")"
   ]
  }
 ],
 "metadata": {
  "kernelspec": {
   "display_name": "3.11.7",
   "language": "python",
   "name": "python3"
  },
  "language_info": {
   "codemirror_mode": {
    "name": "ipython",
    "version": 3
   },
   "file_extension": ".py",
   "mimetype": "text/x-python",
   "name": "python",
   "nbconvert_exporter": "python",
   "pygments_lexer": "ipython3",
   "version": "3.11.7"
  }
 },
 "nbformat": 4,
 "nbformat_minor": 2
}
